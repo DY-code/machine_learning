{
 "cells": [
  {
   "cell_type": "code",
   "execution_count": null,
   "id": "1be01c4a-42e5-46ca-8913-cdda6b1606c2",
   "metadata": {},
   "outputs": [],
   "source": [
    "import numpy as np # linear algebra\n",
    "import pandas as pd # data processing, CSV file I/O (e.g. pd.read_csv)\n",
    "from xgboost import XGBClassifier\n",
    "# https://xgboost.readthedocs.io/en/stable/tutorials/index.html"
   ]
  },
  {
   "cell_type": "code",
   "execution_count": 33,
   "id": "e3241fc8-8917-4ac1-aba5-30ec644f9458",
   "metadata": {},
   "outputs": [],
   "source": [
    "train_data = pd.read_csv(\"./titanic_data/train.csv\") # 导入训练集\n",
    "test_data = pd.read_csv(\"./titanic_data/test.csv\")\n",
    "# train_data.head() # 显示前5行\n",
    "# test_data.head()\n",
    "features = [\"Pclass\", \"Sex\", \"Age\", \"SibSp\", \"Parch\", \"Fare\"]\n",
    "X = pd.get_dummies(train_data[features]) # 转换为one-hot编码\n",
    "X_test = pd.get_dummies(test_data[features])\n",
    "y = train_data[\"Survived\"]"
   ]
  },
  {
   "cell_type": "code",
   "execution_count": 42,
   "id": "b52d454a-6538-4ef1-8598-860a0e8899fc",
   "metadata": {},
   "outputs": [],
   "source": [
    "# create model instance\n",
    "bst = XGBClassifier(n_estimators=1000, max_depth=6, learning_rate=1, objective='binary:logistic')\n",
    "# fit model\n",
    "bst.fit(X, y)\n",
    "# make predictions\n",
    "preds = bst.predict(X_test)"
   ]
  },
  {
   "cell_type": "code",
   "execution_count": 43,
   "id": "63a8393a-d540-4bbe-8649-18cc2f324cca",
   "metadata": {},
   "outputs": [],
   "source": [
    "output = pd.DataFrame({'PassengerId': test_data.PassengerId, 'Survived': preds})\n",
    "output.to_csv('submission.csv', index=False)"
   ]
  },
  {
   "cell_type": "code",
   "execution_count": 41,
   "id": "122f6f7f-84e9-4869-a26a-a732ed53297c",
   "metadata": {},
   "outputs": [
    {
     "data": {
      "text/plain": [
       "0.14114832535885166"
      ]
     },
     "execution_count": 41,
     "metadata": {},
     "output_type": "execute_result"
    }
   ],
   "source": [
    "(preds != preds1).sum() / len(preds)"
   ]
  },
  {
   "cell_type": "code",
   "execution_count": null,
   "id": "fd10251d-55ef-4c37-a444-bd0e73d7c06a",
   "metadata": {},
   "outputs": [],
   "source": []
  }
 ],
 "metadata": {
  "kernelspec": {
   "display_name": "Python 3 (ipykernel)",
   "language": "python",
   "name": "python3"
  },
  "language_info": {
   "codemirror_mode": {
    "name": "ipython",
    "version": 3
   },
   "file_extension": ".py",
   "mimetype": "text/x-python",
   "name": "python",
   "nbconvert_exporter": "python",
   "pygments_lexer": "ipython3",
   "version": "3.9.2"
  }
 },
 "nbformat": 4,
 "nbformat_minor": 5
}
